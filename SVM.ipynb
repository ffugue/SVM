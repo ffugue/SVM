{
 "cells": [
  {
   "cell_type": "markdown",
   "metadata": {
    "id": "AAKckUwpPQf5"
   },
   "source": [
    "<img src=\"./sharif.png\" alt=\"SUT logo\" width=300 height=300 align=left class=\"saturate\">\n",
    "\n",
    "<br>\n",
    "<font>\n",
    "<div dir=ltr align=center>\n",
    "<font color=0F5298 size=7>\n",
    "    Machine Learning <br>\n",
    "<font color=2565AE size=5>\n",
    "    Computer Engineering Department <br>\n",
    "    Spring 2024<br>\n",
    "<font color=3C99D size=5>\n",
    "    Practical Assignment 3<br>\n",
    "<font color=696880 size=4>\n",
    "    Ashkan Majidi - Shayan Salehi - Amirhossein Alamdar\n",
    "\n",
    "____"
   ]
  },
  {
   "cell_type": "markdown",
   "metadata": {
    "id": "Nw5sa0IdPQgA"
   },
   "source": [
    "# Personal Data"
   ]
  },
  {
   "cell_type": "code",
   "execution_count": 5,
   "metadata": {
    "id": "1r7fbCGSPQgA"
   },
   "outputs": [],
   "source": [
    "student_number = '98170657'\n",
    "first_name = 'Helia'\n",
    "last_name = 'AkhtarKavian'"
   ]
  },
  {
   "cell_type": "markdown",
   "metadata": {
    "id": "hRgv6MsRPQgA"
   },
   "source": [
    "# Introduction\n",
    "\n",
    "In this assignment, you will implement SVM (Support Vector Machines) for classification.\n"
   ]
  },
  {
   "cell_type": "markdown",
   "metadata": {
    "id": "oS0Oxp4tPQgB"
   },
   "source": [
    "# Data Prepfocessing"
   ]
  },
  {
   "cell_type": "markdown",
   "metadata": {
    "id": "7STkQS2wPQgB"
   },
   "source": [
    "Import your needed libraries in following cell."
   ]
  },
  {
   "cell_type": "code",
   "execution_count": 59,
   "metadata": {
    "id": "LynW7eqgPQgB"
   },
   "outputs": [],
   "source": [
    "import numpy as np\n",
    "import pandas as pd\n",
    "import seaborn as sns\n",
    "from cvxopt import matrix, solvers\n",
    "from sklearn.preprocessing import StandardScaler\n",
    "from sklearn.svm import SVC\n",
    "from sklearn.metrics import accuracy_score, balanced_accuracy_score, confusion_matrix\n",
    "from sklearn.model_selection import train_test_split, GridSearchCV"
   ]
  },
  {
   "cell_type": "markdown",
   "metadata": {
    "id": "ueGC54PyPQgB"
   },
   "source": [
    "Load data from ```satimage``` dataset and split data to features and labels. The ```label``` column is our target variable."
   ]
  },
  {
   "cell_type": "code",
   "execution_count": 114,
   "metadata": {
    "id": "kxO7XP6VPQgB"
   },
   "outputs": [],
   "source": [
    "data = pd.read_csv(\"./Data/satimage.csv\")\n",
    "\n",
    "features = data.drop(columns=[\"label\"])\n",
    "label = data[\"label\"]"
   ]
  },
  {
   "cell_type": "markdown",
   "metadata": {
    "id": "3cMpLRn1PQgB"
   },
   "source": [
    "Now split data to train, validation and test parts. 60% of data should be used for train, 15% for validation and 25% for test. After that scale the data to Standard Normal Distribution using ```StandardScaler``` class from ```scikit-learn``` library."
   ]
  },
  {
   "cell_type": "code",
   "execution_count": 115,
   "metadata": {
    "id": "ezil0DsfPQgB"
   },
   "outputs": [],
   "source": [
    "train_features, temp_features, train_labels, temp_labels = train_test_split(features, label, test_size=0.4, random_state=42)\n",
    "\n",
    "validation_features, test_features, validation_labels, test_labels = train_test_split(temp_features, temp_labels, test_size=0.625, random_state=42)\n",
    "\n",
    "feature_scaler = StandardScaler()\n",
    "normalized_train_features = feature_scaler.fit_transform(train_features)\n",
    "normalized_validation_features = feature_scaler.transform(validation_features)\n",
    "normalized_test_features = feature_scaler.transform(test_features)"
   ]
  },
  {
   "cell_type": "markdown",
   "metadata": {
    "id": "HO7gRqdHPQgB"
   },
   "source": [
    "We want to train Binary SVM model for classification between labels 4 and 6. Choose corresponding datas and convert their lables to 1 and -1 respectively for 4 and 6."
   ]
  },
  {
   "cell_type": "code",
   "execution_count": 116,
   "metadata": {
    "colab": {
     "base_uri": "https://localhost:8080/",
     "height": 75
    },
    "id": "-A6SD4mbPQgC",
    "outputId": "f013e30f-b94b-4076-ea25-daa858757daf"
   },
   "outputs": [
    {
     "data": {
      "text/html": [
       "<style>#sk-container-id-8 {\n",
       "  /* Definition of color scheme common for light and dark mode */\n",
       "  --sklearn-color-text: black;\n",
       "  --sklearn-color-line: gray;\n",
       "  /* Definition of color scheme for unfitted estimators */\n",
       "  --sklearn-color-unfitted-level-0: #fff5e6;\n",
       "  --sklearn-color-unfitted-level-1: #f6e4d2;\n",
       "  --sklearn-color-unfitted-level-2: #ffe0b3;\n",
       "  --sklearn-color-unfitted-level-3: chocolate;\n",
       "  /* Definition of color scheme for fitted estimators */\n",
       "  --sklearn-color-fitted-level-0: #f0f8ff;\n",
       "  --sklearn-color-fitted-level-1: #d4ebff;\n",
       "  --sklearn-color-fitted-level-2: #b3dbfd;\n",
       "  --sklearn-color-fitted-level-3: cornflowerblue;\n",
       "\n",
       "  /* Specific color for light theme */\n",
       "  --sklearn-color-text-on-default-background: var(--sg-text-color, var(--theme-code-foreground, var(--jp-content-font-color1, black)));\n",
       "  --sklearn-color-background: var(--sg-background-color, var(--theme-background, var(--jp-layout-color0, white)));\n",
       "  --sklearn-color-border-box: var(--sg-text-color, var(--theme-code-foreground, var(--jp-content-font-color1, black)));\n",
       "  --sklearn-color-icon: #696969;\n",
       "\n",
       "  @media (prefers-color-scheme: dark) {\n",
       "    /* Redefinition of color scheme for dark theme */\n",
       "    --sklearn-color-text-on-default-background: var(--sg-text-color, var(--theme-code-foreground, var(--jp-content-font-color1, white)));\n",
       "    --sklearn-color-background: var(--sg-background-color, var(--theme-background, var(--jp-layout-color0, #111)));\n",
       "    --sklearn-color-border-box: var(--sg-text-color, var(--theme-code-foreground, var(--jp-content-font-color1, white)));\n",
       "    --sklearn-color-icon: #878787;\n",
       "  }\n",
       "}\n",
       "\n",
       "#sk-container-id-8 {\n",
       "  color: var(--sklearn-color-text);\n",
       "}\n",
       "\n",
       "#sk-container-id-8 pre {\n",
       "  padding: 0;\n",
       "}\n",
       "\n",
       "#sk-container-id-8 input.sk-hidden--visually {\n",
       "  border: 0;\n",
       "  clip: rect(1px 1px 1px 1px);\n",
       "  clip: rect(1px, 1px, 1px, 1px);\n",
       "  height: 1px;\n",
       "  margin: -1px;\n",
       "  overflow: hidden;\n",
       "  padding: 0;\n",
       "  position: absolute;\n",
       "  width: 1px;\n",
       "}\n",
       "\n",
       "#sk-container-id-8 div.sk-dashed-wrapped {\n",
       "  border: 1px dashed var(--sklearn-color-line);\n",
       "  margin: 0 0.4em 0.5em 0.4em;\n",
       "  box-sizing: border-box;\n",
       "  padding-bottom: 0.4em;\n",
       "  background-color: var(--sklearn-color-background);\n",
       "}\n",
       "\n",
       "#sk-container-id-8 div.sk-container {\n",
       "  /* jupyter's `normalize.less` sets `[hidden] { display: none; }`\n",
       "     but bootstrap.min.css set `[hidden] { display: none !important; }`\n",
       "     so we also need the `!important` here to be able to override the\n",
       "     default hidden behavior on the sphinx rendered scikit-learn.org.\n",
       "     See: https://github.com/scikit-learn/scikit-learn/issues/21755 */\n",
       "  display: inline-block !important;\n",
       "  position: relative;\n",
       "}\n",
       "\n",
       "#sk-container-id-8 div.sk-text-repr-fallback {\n",
       "  display: none;\n",
       "}\n",
       "\n",
       "div.sk-parallel-item,\n",
       "div.sk-serial,\n",
       "div.sk-item {\n",
       "  /* draw centered vertical line to link estimators */\n",
       "  background-image: linear-gradient(var(--sklearn-color-text-on-default-background), var(--sklearn-color-text-on-default-background));\n",
       "  background-size: 2px 100%;\n",
       "  background-repeat: no-repeat;\n",
       "  background-position: center center;\n",
       "}\n",
       "\n",
       "/* Parallel-specific style estimator block */\n",
       "\n",
       "#sk-container-id-8 div.sk-parallel-item::after {\n",
       "  content: \"\";\n",
       "  width: 100%;\n",
       "  border-bottom: 2px solid var(--sklearn-color-text-on-default-background);\n",
       "  flex-grow: 1;\n",
       "}\n",
       "\n",
       "#sk-container-id-8 div.sk-parallel {\n",
       "  display: flex;\n",
       "  align-items: stretch;\n",
       "  justify-content: center;\n",
       "  background-color: var(--sklearn-color-background);\n",
       "  position: relative;\n",
       "}\n",
       "\n",
       "#sk-container-id-8 div.sk-parallel-item {\n",
       "  display: flex;\n",
       "  flex-direction: column;\n",
       "}\n",
       "\n",
       "#sk-container-id-8 div.sk-parallel-item:first-child::after {\n",
       "  align-self: flex-end;\n",
       "  width: 50%;\n",
       "}\n",
       "\n",
       "#sk-container-id-8 div.sk-parallel-item:last-child::after {\n",
       "  align-self: flex-start;\n",
       "  width: 50%;\n",
       "}\n",
       "\n",
       "#sk-container-id-8 div.sk-parallel-item:only-child::after {\n",
       "  width: 0;\n",
       "}\n",
       "\n",
       "/* Serial-specific style estimator block */\n",
       "\n",
       "#sk-container-id-8 div.sk-serial {\n",
       "  display: flex;\n",
       "  flex-direction: column;\n",
       "  align-items: center;\n",
       "  background-color: var(--sklearn-color-background);\n",
       "  padding-right: 1em;\n",
       "  padding-left: 1em;\n",
       "}\n",
       "\n",
       "\n",
       "/* Toggleable style: style used for estimator/Pipeline/ColumnTransformer box that is\n",
       "clickable and can be expanded/collapsed.\n",
       "- Pipeline and ColumnTransformer use this feature and define the default style\n",
       "- Estimators will overwrite some part of the style using the `sk-estimator` class\n",
       "*/\n",
       "\n",
       "/* Pipeline and ColumnTransformer style (default) */\n",
       "\n",
       "#sk-container-id-8 div.sk-toggleable {\n",
       "  /* Default theme specific background. It is overwritten whether we have a\n",
       "  specific estimator or a Pipeline/ColumnTransformer */\n",
       "  background-color: var(--sklearn-color-background);\n",
       "}\n",
       "\n",
       "/* Toggleable label */\n",
       "#sk-container-id-8 label.sk-toggleable__label {\n",
       "  cursor: pointer;\n",
       "  display: block;\n",
       "  width: 100%;\n",
       "  margin-bottom: 0;\n",
       "  padding: 0.5em;\n",
       "  box-sizing: border-box;\n",
       "  text-align: center;\n",
       "}\n",
       "\n",
       "#sk-container-id-8 label.sk-toggleable__label-arrow:before {\n",
       "  /* Arrow on the left of the label */\n",
       "  content: \"▸\";\n",
       "  float: left;\n",
       "  margin-right: 0.25em;\n",
       "  color: var(--sklearn-color-icon);\n",
       "}\n",
       "\n",
       "#sk-container-id-8 label.sk-toggleable__label-arrow:hover:before {\n",
       "  color: var(--sklearn-color-text);\n",
       "}\n",
       "\n",
       "/* Toggleable content - dropdown */\n",
       "\n",
       "#sk-container-id-8 div.sk-toggleable__content {\n",
       "  max-height: 0;\n",
       "  max-width: 0;\n",
       "  overflow: hidden;\n",
       "  text-align: left;\n",
       "  /* unfitted */\n",
       "  background-color: var(--sklearn-color-unfitted-level-0);\n",
       "}\n",
       "\n",
       "#sk-container-id-8 div.sk-toggleable__content.fitted {\n",
       "  /* fitted */\n",
       "  background-color: var(--sklearn-color-fitted-level-0);\n",
       "}\n",
       "\n",
       "#sk-container-id-8 div.sk-toggleable__content pre {\n",
       "  margin: 0.2em;\n",
       "  border-radius: 0.25em;\n",
       "  color: var(--sklearn-color-text);\n",
       "  /* unfitted */\n",
       "  background-color: var(--sklearn-color-unfitted-level-0);\n",
       "}\n",
       "\n",
       "#sk-container-id-8 div.sk-toggleable__content.fitted pre {\n",
       "  /* unfitted */\n",
       "  background-color: var(--sklearn-color-fitted-level-0);\n",
       "}\n",
       "\n",
       "#sk-container-id-8 input.sk-toggleable__control:checked~div.sk-toggleable__content {\n",
       "  /* Expand drop-down */\n",
       "  max-height: 200px;\n",
       "  max-width: 100%;\n",
       "  overflow: auto;\n",
       "}\n",
       "\n",
       "#sk-container-id-8 input.sk-toggleable__control:checked~label.sk-toggleable__label-arrow:before {\n",
       "  content: \"▾\";\n",
       "}\n",
       "\n",
       "/* Pipeline/ColumnTransformer-specific style */\n",
       "\n",
       "#sk-container-id-8 div.sk-label input.sk-toggleable__control:checked~label.sk-toggleable__label {\n",
       "  color: var(--sklearn-color-text);\n",
       "  background-color: var(--sklearn-color-unfitted-level-2);\n",
       "}\n",
       "\n",
       "#sk-container-id-8 div.sk-label.fitted input.sk-toggleable__control:checked~label.sk-toggleable__label {\n",
       "  background-color: var(--sklearn-color-fitted-level-2);\n",
       "}\n",
       "\n",
       "/* Estimator-specific style */\n",
       "\n",
       "/* Colorize estimator box */\n",
       "#sk-container-id-8 div.sk-estimator input.sk-toggleable__control:checked~label.sk-toggleable__label {\n",
       "  /* unfitted */\n",
       "  background-color: var(--sklearn-color-unfitted-level-2);\n",
       "}\n",
       "\n",
       "#sk-container-id-8 div.sk-estimator.fitted input.sk-toggleable__control:checked~label.sk-toggleable__label {\n",
       "  /* fitted */\n",
       "  background-color: var(--sklearn-color-fitted-level-2);\n",
       "}\n",
       "\n",
       "#sk-container-id-8 div.sk-label label.sk-toggleable__label,\n",
       "#sk-container-id-8 div.sk-label label {\n",
       "  /* The background is the default theme color */\n",
       "  color: var(--sklearn-color-text-on-default-background);\n",
       "}\n",
       "\n",
       "/* On hover, darken the color of the background */\n",
       "#sk-container-id-8 div.sk-label:hover label.sk-toggleable__label {\n",
       "  color: var(--sklearn-color-text);\n",
       "  background-color: var(--sklearn-color-unfitted-level-2);\n",
       "}\n",
       "\n",
       "/* Label box, darken color on hover, fitted */\n",
       "#sk-container-id-8 div.sk-label.fitted:hover label.sk-toggleable__label.fitted {\n",
       "  color: var(--sklearn-color-text);\n",
       "  background-color: var(--sklearn-color-fitted-level-2);\n",
       "}\n",
       "\n",
       "/* Estimator label */\n",
       "\n",
       "#sk-container-id-8 div.sk-label label {\n",
       "  font-family: monospace;\n",
       "  font-weight: bold;\n",
       "  display: inline-block;\n",
       "  line-height: 1.2em;\n",
       "}\n",
       "\n",
       "#sk-container-id-8 div.sk-label-container {\n",
       "  text-align: center;\n",
       "}\n",
       "\n",
       "/* Estimator-specific */\n",
       "#sk-container-id-8 div.sk-estimator {\n",
       "  font-family: monospace;\n",
       "  border: 1px dotted var(--sklearn-color-border-box);\n",
       "  border-radius: 0.25em;\n",
       "  box-sizing: border-box;\n",
       "  margin-bottom: 0.5em;\n",
       "  /* unfitted */\n",
       "  background-color: var(--sklearn-color-unfitted-level-0);\n",
       "}\n",
       "\n",
       "#sk-container-id-8 div.sk-estimator.fitted {\n",
       "  /* fitted */\n",
       "  background-color: var(--sklearn-color-fitted-level-0);\n",
       "}\n",
       "\n",
       "/* on hover */\n",
       "#sk-container-id-8 div.sk-estimator:hover {\n",
       "  /* unfitted */\n",
       "  background-color: var(--sklearn-color-unfitted-level-2);\n",
       "}\n",
       "\n",
       "#sk-container-id-8 div.sk-estimator.fitted:hover {\n",
       "  /* fitted */\n",
       "  background-color: var(--sklearn-color-fitted-level-2);\n",
       "}\n",
       "\n",
       "/* Specification for estimator info (e.g. \"i\" and \"?\") */\n",
       "\n",
       "/* Common style for \"i\" and \"?\" */\n",
       "\n",
       ".sk-estimator-doc-link,\n",
       "a:link.sk-estimator-doc-link,\n",
       "a:visited.sk-estimator-doc-link {\n",
       "  float: right;\n",
       "  font-size: smaller;\n",
       "  line-height: 1em;\n",
       "  font-family: monospace;\n",
       "  background-color: var(--sklearn-color-background);\n",
       "  border-radius: 1em;\n",
       "  height: 1em;\n",
       "  width: 1em;\n",
       "  text-decoration: none !important;\n",
       "  margin-left: 1ex;\n",
       "  /* unfitted */\n",
       "  border: var(--sklearn-color-unfitted-level-1) 1pt solid;\n",
       "  color: var(--sklearn-color-unfitted-level-1);\n",
       "}\n",
       "\n",
       ".sk-estimator-doc-link.fitted,\n",
       "a:link.sk-estimator-doc-link.fitted,\n",
       "a:visited.sk-estimator-doc-link.fitted {\n",
       "  /* fitted */\n",
       "  border: var(--sklearn-color-fitted-level-1) 1pt solid;\n",
       "  color: var(--sklearn-color-fitted-level-1);\n",
       "}\n",
       "\n",
       "/* On hover */\n",
       "div.sk-estimator:hover .sk-estimator-doc-link:hover,\n",
       ".sk-estimator-doc-link:hover,\n",
       "div.sk-label-container:hover .sk-estimator-doc-link:hover,\n",
       ".sk-estimator-doc-link:hover {\n",
       "  /* unfitted */\n",
       "  background-color: var(--sklearn-color-unfitted-level-3);\n",
       "  color: var(--sklearn-color-background);\n",
       "  text-decoration: none;\n",
       "}\n",
       "\n",
       "div.sk-estimator.fitted:hover .sk-estimator-doc-link.fitted:hover,\n",
       ".sk-estimator-doc-link.fitted:hover,\n",
       "div.sk-label-container:hover .sk-estimator-doc-link.fitted:hover,\n",
       ".sk-estimator-doc-link.fitted:hover {\n",
       "  /* fitted */\n",
       "  background-color: var(--sklearn-color-fitted-level-3);\n",
       "  color: var(--sklearn-color-background);\n",
       "  text-decoration: none;\n",
       "}\n",
       "\n",
       "/* Span, style for the box shown on hovering the info icon */\n",
       ".sk-estimator-doc-link span {\n",
       "  display: none;\n",
       "  z-index: 9999;\n",
       "  position: relative;\n",
       "  font-weight: normal;\n",
       "  right: .2ex;\n",
       "  padding: .5ex;\n",
       "  margin: .5ex;\n",
       "  width: min-content;\n",
       "  min-width: 20ex;\n",
       "  max-width: 50ex;\n",
       "  color: var(--sklearn-color-text);\n",
       "  box-shadow: 2pt 2pt 4pt #999;\n",
       "  /* unfitted */\n",
       "  background: var(--sklearn-color-unfitted-level-0);\n",
       "  border: .5pt solid var(--sklearn-color-unfitted-level-3);\n",
       "}\n",
       "\n",
       ".sk-estimator-doc-link.fitted span {\n",
       "  /* fitted */\n",
       "  background: var(--sklearn-color-fitted-level-0);\n",
       "  border: var(--sklearn-color-fitted-level-3);\n",
       "}\n",
       "\n",
       ".sk-estimator-doc-link:hover span {\n",
       "  display: block;\n",
       "}\n",
       "\n",
       "/* \"?\"-specific style due to the `<a>` HTML tag */\n",
       "\n",
       "#sk-container-id-8 a.estimator_doc_link {\n",
       "  float: right;\n",
       "  font-size: 1rem;\n",
       "  line-height: 1em;\n",
       "  font-family: monospace;\n",
       "  background-color: var(--sklearn-color-background);\n",
       "  border-radius: 1rem;\n",
       "  height: 1rem;\n",
       "  width: 1rem;\n",
       "  text-decoration: none;\n",
       "  /* unfitted */\n",
       "  color: var(--sklearn-color-unfitted-level-1);\n",
       "  border: var(--sklearn-color-unfitted-level-1) 1pt solid;\n",
       "}\n",
       "\n",
       "#sk-container-id-8 a.estimator_doc_link.fitted {\n",
       "  /* fitted */\n",
       "  border: var(--sklearn-color-fitted-level-1) 1pt solid;\n",
       "  color: var(--sklearn-color-fitted-level-1);\n",
       "}\n",
       "\n",
       "/* On hover */\n",
       "#sk-container-id-8 a.estimator_doc_link:hover {\n",
       "  /* unfitted */\n",
       "  background-color: var(--sklearn-color-unfitted-level-3);\n",
       "  color: var(--sklearn-color-background);\n",
       "  text-decoration: none;\n",
       "}\n",
       "\n",
       "#sk-container-id-8 a.estimator_doc_link.fitted:hover {\n",
       "  /* fitted */\n",
       "  background-color: var(--sklearn-color-fitted-level-3);\n",
       "}\n",
       "</style><div id=\"sk-container-id-8\" class=\"sk-top-container\"><div class=\"sk-text-repr-fallback\"><pre>SVC(kernel=&#x27;linear&#x27;)</pre><b>In a Jupyter environment, please rerun this cell to show the HTML representation or trust the notebook. <br />On GitHub, the HTML representation is unable to render, please try loading this page with nbviewer.org.</b></div><div class=\"sk-container\" hidden><div class=\"sk-item\"><div class=\"sk-estimator fitted sk-toggleable\"><input class=\"sk-toggleable__control sk-hidden--visually\" id=\"sk-estimator-id-8\" type=\"checkbox\" checked><label for=\"sk-estimator-id-8\" class=\"sk-toggleable__label fitted sk-toggleable__label-arrow fitted\">&nbsp;&nbsp;SVC<a class=\"sk-estimator-doc-link fitted\" rel=\"noreferrer\" target=\"_blank\" href=\"https://scikit-learn.org/1.4/modules/generated/sklearn.svm.SVC.html\">?<span>Documentation for SVC</span></a><span class=\"sk-estimator-doc-link fitted\">i<span>Fitted</span></span></label><div class=\"sk-toggleable__content fitted\"><pre>SVC(kernel=&#x27;linear&#x27;)</pre></div> </div></div></div></div>"
      ],
      "text/plain": [
       "SVC(kernel='linear')"
      ]
     },
     "execution_count": 116,
     "metadata": {},
     "output_type": "execute_result"
    }
   ],
   "source": [
    "def filter_labels(labels):\n",
    "    filtered = []\n",
    "    for label in labels:\n",
    "        filtered.append(label in (4, 6))\n",
    "    return filtered\n",
    "\n",
    "def map_labels(labels):\n",
    "    return labels.apply(lambda x: 1 if x == 4 else -1)\n",
    "\n",
    "train_filter = filter_labels(train_labels)\n",
    "validation_filter = filter_labels(validation_labels)\n",
    "test_filter = filter_labels(test_labels)\n",
    "\n",
    "filtered_train_features = normalized_train_features[train_filter]\n",
    "filtered_train_labels = map_labels(train_labels[train_filter])\n",
    "\n",
    "filtered_validation_features = normalized_validation_features[validation_filter]\n",
    "filtered_validation_labels = map_labels(validation_labels[validation_filter])\n",
    "\n",
    "filtered_test_features = normalized_test_features[test_filter]\n",
    "filtered_test_labels = map_labels(test_labels[test_filter])\n",
    "\n",
    "model = SVC(kernel='linear')\n",
    "model.fit(filtered_train_features, filtered_train_labels)"
   ]
  },
  {
   "cell_type": "markdown",
   "metadata": {
    "id": "d_22p1pgPQgC"
   },
   "source": [
    "# Model (50 points)"
   ]
  },
  {
   "cell_type": "markdown",
   "metadata": {
    "id": "GeXst9HHPQgC"
   },
   "source": [
    "Here is soft margin svm convex optimization formulation.\n",
    "$$\n",
    "\\begin{aligned}\n",
    "\\text { Minimize } & \\frac{1}{2}\\|\\mathbf{w}\\|^2+C \\sum_{i=1}^N \\xi_i \\\\\n",
    "\\text { Subject to } & y_i\\left(\\mathbf{w}^T \\mathbf{x}_i+b\\right) \\geq 1-\\xi_i, \\quad i=1,2, \\ldots, N \\\\\n",
    "& \\xi_i \\geq 0, \\quad i=1,2, \\ldots, N\n",
    "\\end{aligned}\n",
    "$$\n",
    "write dual of the soft margin svm optimization problem below:"
   ]
  },
  {
   "cell_type": "markdown",
   "metadata": {
    "id": "_9VD97HA3FJP"
   },
   "source": [
    "$$\n",
    "\\begin{aligned}\n",
    "\\text { Maximize } & \\quad \\sum_{i=1}^N \\alpha_i - \\frac{1}{2} \\sum_{i=1}^N \\sum_{j=1}^N \\alpha_i \\alpha_j y_i y_j \\mathbf{x}_i^T \\mathbf{x}_j \\\\\n",
    "\\text { Subject to } & \\quad \\sum_{i=1}^N \\alpha_i y_i = 0 \\\\\n",
    "& \\quad 0 \\leq \\alpha_i \\leq C, \\quad i = 1, 2, \\ldots, N\n",
    "\\end{aligned}\n",
    "$$\n",
    "\n",
    "This formulation allows solving the SVM problem by only working with the dot products of the input vectors, which is particularly beneficial when applying kernel methods for non-linear classification."
   ]
  },
  {
   "cell_type": "markdown",
   "metadata": {
    "id": "009lTwHMPQgC"
   },
   "source": [
    "Now you should write this optimization problem in standard Quadratic Program (QP) form and use a QP solver to find optimal answer. Here is General form of a QP:\n",
    "$$\n",
    "\\begin{aligned}\n",
    "\\text { Minimize } & \\frac{1}{2} x^TPx + q^Tx + r \\\\\n",
    "\\text { Subject to } & Gx \\leq h \\\\\n",
    "& Ax = b\n",
    "\\end{aligned}\n",
    "$$\n",
    "\n",
    "Complete functions below and use ```cvxopt``` library which is a common library for solving QPs. Note that you can't use ```scikit-learn``` library.\n"
   ]
  },
  {
   "cell_type": "code",
   "execution_count": 117,
   "metadata": {
    "id": "9d5OcA-lPQgC"
   },
   "outputs": [],
   "source": [
    "def soft_margin_svm(features, labels, penalty_weight):\n",
    "    \"\"\"\n",
    "    Args:\n",
    "        features: Data matrix containing training samples\n",
    "        labels: Array containing labels for training samples\n",
    "        penalty_weight: Regularization parameter for margin violation\n",
    "    Returns:\n",
    "        sv_data: Support vectors identified by the model\n",
    "        sv_labels: Corresponding labels of the support vectors\n",
    "        sv_alphas: Lagrange multipliers associated with the support vectors\n",
    "    \"\"\"\n",
    "\n",
    "    n_samples, n_features = features.shape\n",
    "    gram = np.dot(features, features.T) * np.outer(labels, labels)\n",
    "    quadratic_term = matrix(gram)\n",
    "    linear_term = matrix(-np.ones((n_samples, 1)))\n",
    "    combined_bounds = matrix(np.vstack((-np.eye(n_samples), np.eye(n_samples))))\n",
    "    inequality_constraints = matrix(np.hstack((np.zeros(n_samples), np.ones(n_samples) * penalty_weight)))\n",
    "    label_constraint = matrix(labels, (1, n_samples), 'd')\n",
    "    intercept_term = matrix(0.0)\n",
    "    solution = solvers.qp(quadratic_term, linear_term, combined_bounds, inequality_constraints, label_constraint, intercept_term)\n",
    "    lagrange_multipliers = np.array(solution['x']).flatten()\n",
    "    sv_data = features\n",
    "    sv_labels = labels\n",
    "    sv_alphas = lagrange_multipliers\n",
    "    return sv_data, sv_labels, sv_alphas"
   ]
  },
  {
   "cell_type": "code",
   "execution_count": 118,
   "metadata": {
    "colab": {
     "base_uri": "https://localhost:8080/"
    },
    "id": "hWC78gWF80xW",
    "outputId": "193be2f8-bda3-4f46-d6ea-6b97f2218886"
   },
   "outputs": [
    {
     "name": "stdout",
     "output_type": "stream",
     "text": [
      "     pcost       dcost       gap    pres   dres\n",
      " 0: -6.1265e+02 -3.3971e+03  2e+04  3e+00  2e-13\n",
      " 1: -4.1824e+02 -2.2816e+03  3e+03  3e-01  1e-13\n",
      " 2: -3.9732e+02 -7.6474e+02  4e+02  3e-02  9e-14\n",
      " 3: -4.4111e+02 -5.8227e+02  2e+02  9e-03  9e-14\n",
      " 4: -4.6125e+02 -5.3708e+02  8e+01  4e-03  9e-14\n",
      " 5: -4.7293e+02 -5.1305e+02  4e+01  2e-03  9e-14\n",
      " 6: -4.7763e+02 -5.0407e+02  3e+01  1e-03  9e-14\n",
      " 7: -4.8272e+02 -4.9477e+02  1e+01  4e-04  9e-14\n",
      " 8: -4.8534e+02 -4.9054e+02  5e+00  2e-04  1e-13\n",
      " 9: -4.8671e+02 -4.8840e+02  2e+00  4e-05  1e-13\n",
      "10: -4.8718e+02 -4.8773e+02  6e-01  7e-06  1e-13\n",
      "11: -4.8738e+02 -4.8747e+02  9e-02  4e-07  1e-13\n",
      "12: -4.8742e+02 -4.8743e+02  7e-03  3e-08  1e-13\n",
      "13: -4.8742e+02 -4.8742e+02  2e-04  6e-10  1e-13\n",
      "Optimal solution found.\n"
     ]
    }
   ],
   "source": [
    "sv, sv_labels, sv_alphas = soft_margin_svm(filtered_train_features, filtered_train_labels, 1)"
   ]
  },
  {
   "cell_type": "code",
   "execution_count": 119,
   "metadata": {
    "id": "HhlmT0fwPQgD"
   },
   "outputs": [],
   "source": [
    "def predict(test_data, sv_data, sv_labels, sv_alphas):\n",
    "    \"\"\"\n",
    "    Args:\n",
    "        test_data: Matrix containing the data points to classify\n",
    "        sv_data: Matrix containing support vectors identified by the model\n",
    "        sv_labels: Array containing labels corresponding to the support vectors\n",
    "        sv_alphas: Lagrange multipliers associated with the support vectors\n",
    "\n",
    "    Returns:\n",
    "        predicted_labels: Array of predicted labels for the input test data\n",
    "    \"\"\"\n",
    "\n",
    "    linear_combination = np.dot(test_data, sv_data.T)\n",
    "    decision_output = np.dot(linear_combination, sv_alphas * sv_labels)\n",
    "    predicted_labels = np.sign(decision_output)\n",
    "    return predicted_labels"
   ]
  },
  {
   "cell_type": "code",
   "execution_count": 120,
   "metadata": {
    "id": "90Ez6q-nPQgD"
   },
   "outputs": [],
   "source": [
    "predicted_labels = predict(np.array(filtered_test_features), sv, sv_labels, sv_alphas)"
   ]
  },
  {
   "cell_type": "markdown",
   "metadata": {
    "id": "6B3gVWxLPQgD"
   },
   "source": [
    "# Evaluation (20 points)"
   ]
  },
  {
   "cell_type": "markdown",
   "metadata": {
    "id": "_4G1m29TPQgE"
   },
   "source": [
    "Compute accuracy, balanced accuracy and plot confusion matrix of your trained model using ```Seaborn.heatmap()``` function. Use case of balanced accuracy is when dealing with imbalanced data, i.e. when one of the target classes appears a lot more than the other and it is defined by average of recall of classes. Confusion matrix is a $k\\times k$ (k is number of classes) matrix which cell ij is showing that number of data points labeld i which predicted j. For more detail of evaluation metrics you can see [here](https://neptune.ai/blog/balanced-accuracy).\n",
    "\n",
    "You may use ```scikit-learn``` library to compute these metrics."
   ]
  },
  {
   "cell_type": "code",
   "execution_count": 121,
   "metadata": {
    "colab": {
     "base_uri": "https://localhost:8080/"
    },
    "id": "rOMO_QHzPQgE",
    "outputId": "2ea81f93-7fdd-4e99-9945-c3ae4cc0c584"
   },
   "outputs": [
    {
     "name": "stdout",
     "output_type": "stream",
     "text": [
      "Model Accuracy: 0.8252788104089219\n",
      "Balanced Accuracy: 0.7639855133496167\n",
      "Confusion Matrix:\n",
      " [[348  35]\n",
      " [ 59  96]]\n"
     ]
    }
   ],
   "source": [
    "def evaluate(true_labels, predicted_labels):\n",
    "    \"\"\"\n",
    "    Args:\n",
    "        true_labels: Ground truth labels for the dataset\n",
    "        predicted_labels: Labels predicted by the model\n",
    "    \n",
    "    Returns:\n",
    "        model_accuracy: Overall accuracy of the model\n",
    "        balanced_model_accuracy: Balanced accuracy of the model\n",
    "        confusion_mat: Confusion matrix reflecting model performance\n",
    "    \"\"\"\n",
    "\n",
    "    model_accuracy = accuracy_score(true_labels, predicted_labels)\n",
    "    balanced_model_accuracy = balanced_accuracy_score(true_labels, predicted_labels)\n",
    "    confusion_mat = confusion_matrix(true_labels, predicted_labels)\n",
    "    print(\"Model Accuracy:\", model_accuracy)\n",
    "    print(\"Balanced Accuracy:\", balanced_model_accuracy)\n",
    "    print(\"Confusion Matrix:\\n\", confusion_mat)\n",
    "    return model_accuracy, balanced_model_accuracy, confusion_mat\n",
    "\n",
    "overall_accuracy, balanced_accuracy, confusion_mat = evaluate(filtered_test_labels, predicted_labels)"
   ]
  },
  {
   "cell_type": "code",
   "execution_count": 122,
   "metadata": {
    "colab": {
     "base_uri": "https://localhost:8080/",
     "height": 447
    },
    "id": "9D8tOmclPQgE",
    "outputId": "6acfbc06-0567-442b-bead-7e3865b5e03e"
   },
   "outputs": [
    {
     "data": {
      "text/plain": [
       "<Axes: >"
      ]
     },
     "execution_count": 122,
     "metadata": {},
     "output_type": "execute_result"
    },
    {
     "data": {
      "image/png": "[encoded data removed]",
      "text/plain": [
       "<Figure size 640x480 with 2 Axes>"
      ]
     },
     "metadata": {},
     "output_type": "display_data"
    }
   ],
   "source": [
    "cm_matrix = pd.DataFrame(data=confusion_mat, columns=['Predict Negative:-1', 'Predict Positive:1'],\n",
    "                                 index=['Actual Negative:-1', 'Actual Positive:1'])\n",
    "\n",
    "sns.heatmap(cm_matrix, annot=True, fmt='d', cmap='mako')"
   ]
  },
  {
   "cell_type": "markdown",
   "metadata": {
    "id": "0Gb86NLLPQgE"
   },
   "source": [
    "# Fine-tunning (40 points)"
   ]
  },
  {
   "cell_type": "markdown",
   "metadata": {
    "id": "1LhZmHaoPQgF"
   },
   "source": [
    "like what you did before, implement Soft Margin SVM but now use rbf kernel. To determine rbf $\\gamma$ parameter use validation datas and find best(best by balanced accuracy) $\\gamma$ between 0.001 , 0.01, 1, 10, 100. Not that you can't use ```scikit-learn``` library here."
   ]
  },
  {
   "cell_type": "code",
   "execution_count": 123,
   "metadata": {
    "id": "z5ZzkbfDPQgF"
   },
   "outputs": [],
   "source": [
    "def rbf_kernel(vector1, vector2, kernel_gamma=1):\n",
    "    \"\"\"\n",
    "    Args:\n",
    "        vector1: First input vector\n",
    "        vector2: Second input vector\n",
    "        kernel_gamma: RBF kernel parameter (default value is 1)\n",
    "\n",
    "    Returns:\n",
    "        rbf_value: Computed RBF value between the two input vectors\n",
    "    \"\"\"\n",
    "    squared_diff = np.sum((vector1 - vector2) ** 2)\n",
    "    return np.exp(-kernel_gamma * squared_diff)\n",
    "\n",
    "def soft_margin_svm(features, labels, penalty_weight, kernel_gamma=1):\n",
    "    \"\"\"\n",
    "    Args:\n",
    "        features: Input training feature matrix\n",
    "        labels: Labels for training data\n",
    "        penalty_weight: Regularization parameter for margin violation\n",
    "        kernel_gamma: RBF kernel parameter with a default value of 1\n",
    "\n",
    "    Returns:\n",
    "        sv_data: Support vectors found by the model\n",
    "        sv_labels: Corresponding labels of the support vectors\n",
    "        sv_alphas: Coefficients for the support vectors\n",
    "    \"\"\"\n",
    "\n",
    "    num_samples, num_features = features.shape\n",
    "    kernel_matrix = np.zeros((num_samples, num_samples))\n",
    "    for i in range(num_samples):\n",
    "        for j in range(num_samples):\n",
    "            kernel_matrix[i, j] = rbf_kernel(features[i], features[j], kernel_gamma)\n",
    "\n",
    "    quadratic_term = matrix(np.outer(labels, labels) * kernel_matrix)\n",
    "    linear_term = matrix(-np.ones((num_samples, 1)))\n",
    "    combined_bounds = matrix(np.vstack((-np.eye(num_samples), np.eye(num_samples))))\n",
    "    inequality_constraints = matrix(np.hstack((np.zeros(num_samples), np.ones(num_samples) * penalty_weight)))\n",
    "    label_constraint = matrix(labels, (1, num_samples), 'd')\n",
    "    intercept_term = matrix(0.0)\n",
    "    solution = solvers.qp(quadratic_term, linear_term, combined_bounds, inequality_constraints, label_constraint, intercept_term)\n",
    "    lagrange_multipliers = np.array(solution['x']).flatten()\n",
    "    sv_data = features\n",
    "    sv_labels = labels\n",
    "    sv_alphas = lagrange_multipliers\n",
    "    return sv_data, sv_labels, sv_alphas"
   ]
  },
  {
   "cell_type": "code",
   "execution_count": 132,
   "metadata": {
    "colab": {
     "base_uri": "https://localhost:8080/"
    },
    "id": "I_tH_heoPQgF",
    "outputId": "ad567c84-e8b8-40b2-f279-d38ce0c37333"
   },
   "outputs": [
    {
     "name": "stdout",
     "output_type": "stream",
     "text": [
      "current gamma: 0.01\n",
      "     pcost       dcost       gap    pres   dres\n",
      " 0: -1.5833e+02 -7.2035e+02  3e+03  2e+00  4e-15\n",
      " 1: -1.1278e+02 -4.4552e+02  4e+02  1e-01  3e-15\n",
      " 2: -1.2405e+02 -1.7900e+02  6e+01  2e-02  3e-15\n",
      " 3: -1.3712e+02 -1.5472e+02  2e+01  4e-03  3e-15\n",
      " 4: -1.4177e+02 -1.4733e+02  6e+00  9e-04  3e-15\n",
      " 5: -1.4328e+02 -1.4513e+02  2e+00  2e-04  3e-15\n",
      " 6: -1.4385e+02 -1.4435e+02  5e-01  5e-05  3e-15\n",
      " 7: -1.4405e+02 -1.4408e+02  2e-02  1e-06  4e-15\n",
      " 8: -1.4406e+02 -1.4406e+02  6e-04  3e-08  4e-15\n",
      " 9: -1.4406e+02 -1.4406e+02  2e-05  8e-10  3e-15\n",
      "Optimal solution found.\n",
      "Model Accuracy: 0.8066914498141264\n",
      "Balanced Accuracy: 0.7125242146045649\n",
      "Confusion Matrix:\n",
      " [[358  25]\n",
      " [ 79  76]]\n",
      "current gamma: 0.1\n",
      "     pcost       dcost       gap    pres   dres\n",
      " 0: -9.4677e+01 -6.5677e+02  3e+03  2e+00  1e-15\n",
      " 1: -7.4100e+01 -3.7439e+02  3e+02  7e-02  1e-15\n",
      " 2: -8.1270e+01 -1.3766e+02  6e+01  1e-02  1e-15\n",
      " 3: -9.1058e+01 -1.0314e+02  1e+01  2e-03  1e-15\n",
      " 4: -9.4084e+01 -9.7232e+01  3e+00  3e-04  1e-15\n",
      " 5: -9.5027e+01 -9.5656e+01  6e-01  3e-15  1e-15\n",
      " 6: -9.5261e+01 -9.5312e+01  5e-02  6e-15  1e-15\n",
      " 7: -9.5282e+01 -9.5283e+01  1e-03  6e-15  1e-15\n",
      " 8: -9.5282e+01 -9.5282e+01  4e-05  1e-15  1e-15\n",
      "Optimal solution found.\n",
      "Model Accuracy: 0.8066914498141264\n",
      "Balanced Accuracy: 0.7048429209129958\n",
      "Confusion Matrix:\n",
      " [[362  21]\n",
      " [ 83  72]]\n",
      "current gamma: 1\n",
      "     pcost       dcost       gap    pres   dres\n",
      " 0: -7.3855e+01 -5.8621e+02  2e+03  2e+00  7e-16\n",
      " 1: -6.8094e+01 -3.1709e+02  2e+02  3e-15  4e-16\n",
      " 2: -7.5995e+01 -1.0430e+02  3e+01  2e-15  3e-16\n",
      " 3: -7.9848e+01 -8.2836e+01  3e+00  4e-15  2e-16\n",
      " 4: -8.0387e+01 -8.0812e+01  4e-01  1e-15  1e-16\n",
      " 5: -8.0483e+01 -8.0515e+01  3e-02  2e-15  2e-16\n",
      " 6: -8.0492e+01 -8.0494e+01  2e-03  1e-15  1e-16\n",
      " 7: -8.0493e+01 -8.0493e+01  9e-05  3e-15  1e-16\n",
      " 8: -8.0493e+01 -8.0493e+01  3e-06  1e-15  2e-16\n",
      "Optimal solution found.\n",
      "Model Accuracy: 0.8104089219330854\n",
      "Balanced Accuracy: 0.7439400320053904\n",
      "Confusion Matrix:\n",
      " [[345  38]\n",
      " [ 64  91]]\n",
      "current gamma: 10\n",
      "     pcost       dcost       gap    pres   dres\n",
      " 0: -1.2661e+02 -5.5457e+02  4e+02  2e-14  4e-16\n",
      " 1: -1.2941e+02 -1.4179e+02  1e+01  1e-14  3e-16\n",
      " 2: -1.3203e+02 -1.3218e+02  2e-01  6e-15  1e-16\n",
      " 3: -1.3206e+02 -1.3207e+02  2e-03  4e-16  1e-16\n",
      " 4: -1.3207e+02 -1.3207e+02  2e-05  9e-16  1e-16\n",
      "Optimal solution found.\n",
      "Model Accuracy: 0.8104089219330854\n",
      "Balanced Accuracy: 0.7439400320053904\n",
      "Confusion Matrix:\n",
      " [[345  38]\n",
      " [ 64  91]]\n",
      "current gamma: 100\n",
      "     pcost       dcost       gap    pres   dres\n",
      " 0: -1.2662e+02 -5.5458e+02  4e+02  2e-13  3e-16\n",
      " 1: -1.2941e+02 -1.4178e+02  1e+01  1e-14  2e-16\n",
      " 2: -1.3203e+02 -1.3219e+02  2e-01  5e-15  1e-16\n",
      " 3: -1.3207e+02 -1.3207e+02  2e-03  1e-14  2e-16\n",
      " 4: -1.3207e+02 -1.3207e+02  2e-05  1e-14  3e-17\n",
      "Optimal solution found.\n",
      "Model Accuracy: 0.8104089219330854\n",
      "Balanced Accuracy: 0.7439400320053904\n",
      "Confusion Matrix:\n",
      " [[345  38]\n",
      " [ 64  91]]\n",
      "---------------------------\n",
      "Optimal gamma value found: 1\n"
     ]
    }
   ],
   "source": [
    "gamma_values = [0.01, 0.1, 1, 10, 100]\n",
    "optimal_gamma = None\n",
    "optimal_sv = None\n",
    "optimal_sv_labels = None\n",
    "optimal_sv_alphas = None\n",
    "highest_balanced_acc = None\n",
    "idx = 0\n",
    "while idx < len(gamma_values):\n",
    "    gamma = gamma_values[idx]\n",
    "    print(f'current gamma: {gamma}')\n",
    "    sv, sv_labels, sv_alphas = soft_margin_svm(filtered_validation_features, filtered_validation_labels, penalty_weight=1.0, kernel_gamma=gamma)\n",
    "    test_predictions = predict(np.array(filtered_test_features), sv, sv_labels, sv_alphas)\n",
    "    accuracy, balanced_accuracy, confusion_matrix_results = evaluate(filtered_test_labels, test_predictions)\n",
    "    if highest_balanced_acc is None or balanced_accuracy > highest_balanced_acc:\n",
    "        highest_balanced_acc = balanced_accuracy\n",
    "        optimal_sv = sv\n",
    "        optimal_sv_labels = sv_labels\n",
    "        optimal_sv_alphas = sv_alphas\n",
    "        optimal_gamma = gamma\n",
    "    idx += 1\n",
    "print('---------------------------')\n",
    "print(f'Optimal gamma value found: {optimal_gamma}')"
   ]
  },
  {
   "cell_type": "code",
   "execution_count": 133,
   "metadata": {
    "colab": {
     "base_uri": "https://localhost:8080/"
    },
    "id": "evHTkgJpPQgF",
    "outputId": "ad583892-2e43-4c3a-a929-f812a2583f95"
   },
   "outputs": [
    {
     "name": "stdout",
     "output_type": "stream",
     "text": [
      "Model Accuracy: 0.8104089219330854\n",
      "Balanced Accuracy: 0.7439400320053904\n",
      "Confusion Matrix:\n",
      " [[345  38]\n",
      " [ 64  91]]\n"
     ]
    }
   ],
   "source": [
    "test_predictions = predict(np.array(filtered_test_features), optimal_sv, optimal_sv_labels, optimal_sv_alphas)\n",
    "_, _, confusion_mat = evaluate(filtered_test_labels, test_predictions)"
   ]
  },
  {
   "cell_type": "markdown",
   "metadata": {
    "id": "xaG2sWYjPQgF"
   },
   "source": [
    "# Multiclass SVM (30 points + 50 points optional)"
   ]
  },
  {
   "cell_type": "markdown",
   "metadata": {
    "id": "6H7iG5ezPQgF"
   },
   "source": [
    "Now we want implement Multiclass SVM. Use ```SVC``` function with rbf kernel from ```scikit-learn``` package on all train datas (all six classes) and choose best hyperparameters for $C$ and $\\gamma$ between 0.01, 0.1, 1, 10, 100. After that evaluate it with your function.\n",
    "\n",
    "Note that in this example we had enough data to split them in train and validation but in case that we don't have enough data, ```scikit-learn``` has a built-in fast library named ```GridSearchCV()``` which can help us in hyperparameter tunning with cross validation."
   ]
  },
  {
   "cell_type": "code",
   "execution_count": 144,
   "metadata": {
    "colab": {
     "base_uri": "https://localhost:8080/"
    },
    "id": "vFiAUJwwPQgF",
    "outputId": "25701304-4fb7-4332-ba99-a1b44c3a0cab"
   },
   "outputs": [
    {
     "name": "stdout",
     "output_type": "stream",
     "text": [
      "optimal_params: {'C': 100, 'gamma': 0.1, 'kernel': 'rbf'}\n",
      "optima_score: 0.8996732127851608\n"
     ]
    }
   ],
   "source": [
    "model = SVC()\n",
    "cross_validator = GridSearchCV(model, {'C': [0.01, 0.1, 1, 10, 100], 'gamma': [0.01, 0.1, 1, 10, 100], 'kernel': ['rbf']}, cv=5)\n",
    "cross_validator.fit(filtered_train_features, filtered_train_labels)\n",
    "print(\"optimal_params:\", cross_validator.best_params_)\n",
    "print(\"optima_score:\", cross_validator.best_score_)"
   ]
  },
  {
   "cell_type": "markdown",
   "metadata": {
    "id": "LO2_hZsPPQgF"
   },
   "source": [
    "Implement Multiclass SVM from scratch without using ready functions (optional)."
   ]
  },
  {
   "cell_type": "code",
   "execution_count": 146,
   "metadata": {},
   "outputs": [],
   "source": [
    "def train_one_vs_one_svm(features, labels, penalty_weight, kernel_gamma):\n",
    "    \"\"\"\n",
    "     Args:\n",
    "        features: Input training feature matrix\n",
    "        labels: Labels for training data\n",
    "        penalty_weight: Regularization parameter for margin violation\n",
    "        kernel_gamma: RBF kernel parameter\n",
    "\n",
    "    Returns:\n",
    "        ovo_classifiers: A list containing tuples of model parameters for each class pair.\n",
    "    \"\"\"\n",
    "    unique_classes = np.unique(labels)\n",
    "    ovo_classifiers = []\n",
    "    for i in range(len(unique_classes)):\n",
    "        for j in range(i + 1, len(unique_classes)):\n",
    "            class_i = unique_classes[i]\n",
    "            class_j = unique_classes[j]\n",
    "            relevant_indices = (labels == class_i) | (labels == class_j)\n",
    "            X_pair = X_data[relevant_indices]\n",
    "            y_pair = labels[relevant_indices]\n",
    "            binary_labels = np.where(y_pair == class_i, 1, -1)\n",
    "            sv, sv_labels, sv_alphas = soft_margin_svm(X_pair, binary_labels, penalty_weight, kernel_gamma)\n",
    "            ovo_classifiers.append((sv, sv_labels, sv_alphas, class_i, class_j))\n",
    "    return ovo_classifiers\n",
    "\n",
    "def predict_one_vs_one(test_data, classifiers):\n",
    "    \"\"\"\n",
    "    Args:\n",
    "        test_data: Test dataset.\n",
    "        classifiers: List of classifiers trained on each class pair.\n",
    "\n",
    "    Returns:\n",
    "        final_predictions: Predicted labels for each test data sample.\n",
    "    \"\"\"\n",
    "    decision_scores = np.zeros((len(test_data), len(np.unique([cls[-2] for cls in classifiers]))))\n",
    "    for sv, sv_labels, sv_alphas, class_i, class_j in classifiers:\n",
    "        predictions = predict(test_data, [(sv, sv_labels, sv_alphas, class_i)])\n",
    "        for index, predict in enumerate(predictions):\n",
    "            class_index = class_i if predict == 1 else class_j\n",
    "            decision_scores[index, class_index] += 1\n",
    "    final_predictions = np.argmax(decision_scores, axis=1)\n",
    "    return final_predictions"
   ]
  },
  {
   "cell_type": "markdown",
   "metadata": {
    "id": "79ch2OB-PQgF"
   },
   "source": [
    "# Different SVM Kernels (40 points)"
   ]
  },
  {
   "cell_type": "markdown",
   "metadata": {
    "id": "ZY012exWPQgG"
   },
   "source": [
    "A kernel in SVM is like a tool that helps solve tricky problems. It lets us work in a space with many dimensions, making complex calculations easier. With kernels, we can deal with lots of dimensions, even an endless amount. Kernels are crucial for sorting data into groups and help spot patterns in the data we're looking at. They're especially good at tackling twisty problems with a straightforward approach.\n",
    "\n",
    "Sometimes, finding a straight line or flat surface to divide data isn't possible, especially as we explore more dimensions. That's where different types of SVM kernels come in handy. They transform twisty, complicated data into a simpler form that's easier to separate. In this explanation, we talk about 4 popular types of these kernels. Also in following cells you can use any package.\n",
    "\n",
    "<img src=\"./kernel.jpg\" alt=\"Types of Kernel Functions\"  align=center class=\"saturate\">"
   ]
  },
  {
   "cell_type": "markdown",
   "metadata": {
    "id": "Pu7rhfchPQgG"
   },
   "source": [
    "### Linear Kernel"
   ]
  },
  {
   "cell_type": "markdown",
   "metadata": {
    "id": "iLV-tcB-PQgG"
   },
   "source": [
    "This is the simplest kind of kernel, typically working in one dimension. It works best when dealing with a lot of features. Linear kernels are quicker than other types.\n",
    "\n",
    "**Formula:**\n",
    "\n",
    "$$F(x, x_j) = sum(x, x_j)$$\n",
    "\n",
    "Now Implement svc classifier using a linear kernel. Get the prediction and evaluate it by function which you implemented before. Also plot confusion matrix by `Seaborn`."
   ]
  },
  {
   "cell_type": "code",
   "execution_count": 152,
   "metadata": {
    "colab": {
     "base_uri": "https://localhost:8080/"
    },
    "id": "1vTPwBXDPQgJ",
    "outputId": "9297004e-0f7e-4e7f-ec1d-2af1de7a1f16"
   },
   "outputs": [
    {
     "name": "stdout",
     "output_type": "stream",
     "text": [
      "Accuracy: 0.8513011152416357\n",
      "Balanced Accuracy: 0.820668744209551\n",
      "Confusion Matrix :\n",
      " [[342  41]\n",
      " [ 39 116]]\n"
     ]
    }
   ],
   "source": [
    "model = SVC(kernel='linear')\n",
    "model.fit(filtered_train_features, filtered_train_labels)\n",
    "prediction = model.predict(filtered_test_features)\n",
    "acc = accuracy_score(filtered_test_labels, prediction)\n",
    "bal_acc = balanced_accuracy_score(filtered_test_labels, prediction)\n",
    "cm = confusion_matrix(filtered_test_labels, prediction)\n",
    "\n",
    "print(f\"Accuracy: {acc}\")\n",
    "print(f\"Balanced Accuracy: {bal_acc}\")\n",
    "print(\"Confusion Matrix :\\n\", cm)"
   ]
  },
  {
   "cell_type": "markdown",
   "metadata": {
    "id": "BuweHjJKPQgJ"
   },
   "source": [
    "### Gaussian RBF kernel"
   ]
  },
  {
   "cell_type": "markdown",
   "metadata": {
    "id": "571BvzppPQgJ"
   },
   "source": [
    "This kernel is a favorite choice in SVM, especially for data that doesn't line up straight. It's great for sorting data when you don't know much about it beforehand.\n",
    "\n",
    "**Formula:**\n",
    "\n",
    "$$F(x, x_j) = \\exp{(-\\gamma ||x - xj||^2)}$$\n",
    "\n",
    "Now, configure the SVC classifier with a sigmoid kernel. Get the prediction and evaluate it by function which you implemented before. Also plot confusion matrix as previous part."
   ]
  },
  {
   "cell_type": "code",
   "execution_count": 153,
   "metadata": {
    "colab": {
     "base_uri": "https://localhost:8080/"
    },
    "id": "7iTdUzFHPQgJ",
    "outputId": "ab90ebf2-0415-4a80-a4d7-5be490e272b1"
   },
   "outputs": [
    {
     "name": "stdout",
     "output_type": "stream",
     "text": [
      "Accuracy: 0.8754646840148699\n",
      "Balanced Accuracy: 0.8683651983491956\n",
      "Confusion Matrix :\n",
      " [[339  44]\n",
      " [ 23 132]]\n"
     ]
    }
   ],
   "source": [
    "model = SVC(kernel='rbf', gamma='scale')\n",
    "model.fit(filtered_train_features, filtered_train_labels)\n",
    "prediction = model.predict(filtered_test_features)\n",
    "acc = accuracy_score(filtered_test_labels, prediction)\n",
    "bal_acc = balanced_accuracy_score(filtered_test_labels, prediction)\n",
    "cm = confusion_matrix(filtered_test_labels, prediction)\n",
    "\n",
    "print(f\"Accuracy: {acc}\")\n",
    "print(f\"Balanced Accuracy: {bal_acc}\")\n",
    "print(\"Confusion Matrix :\\n\", cm)"
   ]
  },
  {
   "cell_type": "markdown",
   "metadata": {
    "id": "b6Ig0LPnPQgK"
   },
   "source": [
    "### Polynomial Kernel"
   ]
  },
  {
   "cell_type": "markdown",
   "metadata": {
    "id": "cXs12uJIPQgK"
   },
   "source": [
    "This is a broader version of the linear kernel. It's not as popular because it's not as quick or precise.\n",
    "\n",
    "**Formula:**\n",
    "\n",
    "$$F(x, x_j) = (x.x_j+1)^d$$\n",
    "\n",
    "Now, set up the SVC classifier using a *polynomial* kernel. Get the prediction and evaluate it by function which you implemented before. Also plot confusion matrix as previous parts."
   ]
  },
  {
   "cell_type": "code",
   "execution_count": 154,
   "metadata": {
    "colab": {
     "base_uri": "https://localhost:8080/"
    },
    "id": "4cHPPfXLPQgK",
    "outputId": "af55641e-ce83-45da-b6ec-73c89e63efb4"
   },
   "outputs": [
    {
     "name": "stdout",
     "output_type": "stream",
     "text": [
      "Accuracy: 0.8605947955390335\n",
      "Balanced Accuracy: 0.8656026278109998\n",
      "Confusion Matrix :\n",
      " [[327  56]\n",
      " [ 19 136]]\n"
     ]
    }
   ],
   "source": [
    "model = SVC(kernel='poly', degree=3)\n",
    "model.fit(filtered_train_features, filtered_train_labels)\n",
    "prediction = model.predict(filtered_test_features)\n",
    "acc = accuracy_score(filtered_test_labels, prediction)\n",
    "bal_acc = balanced_accuracy_score(filtered_test_labels, prediction)\n",
    "cm = confusion_matrix(filtered_test_labels, prediction)\n",
    "\n",
    "print(f\"Accuracy: {acc}\")\n",
    "print(f\"Balanced Accuracy: {bal_acc}\")\n",
    "print(\"Confusion Matrix :\\n\", cm)"
   ]
  },
  {
   "cell_type": "markdown",
   "metadata": {
    "id": "tgSSDsAAPQgK"
   },
   "source": [
    "### Sigmoid Kernel"
   ]
  },
  {
   "cell_type": "markdown",
   "metadata": {
    "id": "nba7kUI2PQgK"
   },
   "source": [
    "This is mainly chosen for use with neural networks. The kernel function acts like the activation function in a two-layer perceptron neural network model, helping to activate the neurons.\n",
    "\n",
    "**Formula:**\n",
    "\n",
    "$$F(x, x_j) = \\tanh(α x a y + c)$$\n",
    "\n",
    "Now, configure the SVC classifier with a sigmoid kernel. Get the prediction and evaluate it by function which you implemented before. Also plot confusion matrix as previous parts."
   ]
  },
  {
   "cell_type": "code",
   "execution_count": 155,
   "metadata": {
    "colab": {
     "base_uri": "https://localhost:8080/"
    },
    "id": "1q53B4wMPQgK",
    "outputId": "4af3de5c-06da-4c17-a2bc-55a52c824a21"
   },
   "outputs": [
    {
     "name": "stdout",
     "output_type": "stream",
     "text": [
      "Accuracy: 0.7676579925650557\n",
      "Balanced Accuracy: 0.7215952160363851\n",
      "Confusion Matrix :\n",
      " [[318  65]\n",
      " [ 60  95]]\n"
     ]
    }
   ],
   "source": [
    "model = SVC(kernel='sigmoid', gamma='auto')\n",
    "model.fit(filtered_train_features, filtered_train_labels)\n",
    "prediction = model.predict(filtered_test_features)\n",
    "acc = accuracy_score(filtered_test_labels, prediction)\n",
    "bal_acc = balanced_accuracy_score(filtered_test_labels, prediction)\n",
    "cm = confusion_matrix(filtered_test_labels, prediction)\n",
    "\n",
    "print(f\"Accuracy: {acc}\")\n",
    "print(f\"Balanced Accuracy: {bal_acc}\")\n",
    "print(\"Confusion Matrix :\\n\", cm)"
   ]
  },
  {
   "cell_type": "markdown",
   "metadata": {
    "id": "8oqv-gRSPQgK"
   },
   "source": [
    "Compare these four kernel functions with each other. What are the main advantages and disadvantages of each one?"
   ]
  },
  {
   "cell_type": "markdown",
   "metadata": {
    "id": "vu3M8NfgPQgK"
   },
   "source": [
    "**Linear kernels** are best for large feature spaces with an approximately linear relationship among features. \n",
    "\n",
    "**Gaussian RBF kernels** are effective for non-linear datasets but require more computation to train and predict.\n",
    "\n",
    "**Polynomial kernels** allow the model to fit more complex patterns than a linear kernel but require careful tuning of parameters.\n",
    "\n",
    "**Sigmoid kernels** can handle non-linear relationships in the data, but they are less commonly used for SVM classification due to their complexity.\n",
    "\n",
    "For most applications, **RBF** is a default choice due to its flexibility and effectiveness. However, choosing the right kernel and tuning its parameters depends on the specific data and problem at hand."
   ]
  }
 ],
 "metadata": {
  "colab": {
   "provenance": []
  },
  "kernelspec": {
   "display_name": "Python 3 (ipykernel)",
   "language": "python",
   "name": "python3"
  },
  "language_info": {
   "codemirror_mode": {
    "name": "ipython",
    "version": 3
   },
   "file_extension": ".py",
   "mimetype": "text/x-python",
   "name": "python",
   "nbconvert_exporter": "python",
   "pygments_lexer": "ipython3",
   "version": "3.11.6"
  }
 },
 "nbformat": 4,
 "nbformat_minor": 4
}
